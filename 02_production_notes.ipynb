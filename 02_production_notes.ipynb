{
 "cells": [
  {
   "cell_type": "code",
   "execution_count": 13,
   "metadata": {},
   "outputs": [],
   "source": [
    "import os\n",
    "iskaggle = os.environ.get('KAGGLE_KERNEL_RUN_TYPE', '')\n",
    "\n",
    "if iskaggle:\n",
    "    !pip install -Uqq fastai duckduckgo_search fastcore "
   ]
  },
  {
   "cell_type": "code",
   "execution_count": null,
   "metadata": {},
   "outputs": [],
   "source": [
    "from fastai.vision.all import * \n",
    "from fastcore.all import *\n",
    "from duckduckgo_search import ddg_images\n",
    "from fastdownload import download_url\n",
    "\n"
   ]
  },
  {
   "cell_type": "code",
   "execution_count": null,
   "metadata": {},
   "outputs": [],
   "source": [
    "# test if all imports are successful\n",
    "def test_imports():\n",
    "    import fastai \n",
    "    import fastcore\n",
    "    import duckduckgo_search\n",
    "    import fastdownload\n",
    "   \n",
    "    print(f'the fastai version is {fastai.__version__}')\n",
    "    print(f'the fastcore version is {fastcore.__version__}')\n",
    "    print(f'the duckduckgo_search version is {duckduckgo_search.__version__}')\n",
    "    print(f'the fastdownload version is {fastdownload.__version__}')\n",
    "\n",
    "    # print success message or fail message\n",
    "    print('All imports successful')\n",
    "\n",
    "   \n",
    "test_imports()"
   ]
  },
  {
   "attachments": {},
   "cell_type": "markdown",
   "metadata": {},
   "source": [
    "    \n",
    "- `import fastai` # fastai is the main library\n",
    "- `import fastcore` # fastcore is a dependency of fastai that contains some useful functions such as L, Path, get_files, get_image_files, verify_images, etc. It is imported when you import fastai.\n",
    "- `import duckduckgo_search` # duckduckgo_search is a dependency of fastdownload and is used to download the images for the dataset. It cointains a function called ddg_images that lets you search for images on duckduckgo and download them in bulk.\n",
    "- `import fastdownload` # fastdownload is a dependency of fastai that contains a function called download_url that lets you download a file from a url. Another function called download_images lets you download images from a url in bulk. `download_images` is in the fastai library but it is not as flexible as download_url because     it only works with urls that end in .jpg, .png, .jpeg, .bmp, .gif, etc. `download_url` can download any file from a url.\n",
    " "
   ]
  },
  {
   "cell_type": "code",
   "execution_count": 19,
   "metadata": {},
   "outputs": [
    {
     "ename": "NameError",
     "evalue": "name 'ddg_images' is not defined",
     "output_type": "error",
     "traceback": [
      "\u001b[0;31m---------------------------------------------------------------------------\u001b[0m",
      "\u001b[0;31mNameError\u001b[0m                                 Traceback (most recent call last)",
      "Cell \u001b[0;32mIn [19], line 6\u001b[0m\n\u001b[1;32m      3\u001b[0m max_images \u001b[39m=\u001b[39m \u001b[39m3\u001b[39m\n\u001b[1;32m      5\u001b[0m \u001b[39m# Call the ddg_Images function with the search term and maximum number of results\u001b[39;00m\n\u001b[0;32m----> 6\u001b[0m ddg_images(term, max_results\u001b[39m=\u001b[39mmax_images) \n\u001b[1;32m      8\u001b[0m \u001b[39m# if url are found, print success message and instructions to click on link to view the images\u001b[39;00m\n\u001b[1;32m      9\u001b[0m \u001b[39mdef\u001b[39;00m \u001b[39mtest_ddg_images\u001b[39m():\n",
      "\u001b[0;31mNameError\u001b[0m: name 'ddg_images' is not defined"
     ]
    }
   ],
   "source": [
    "# Test if the ddg_Images function is working with a simple search\n",
    "term = 'Schoondle dog photos'\n",
    "max_images = 3\n",
    "\n",
    "# Call the ddg_Images function with the search term and maximum number of results\n",
    "ddg_images(term, max_results=max_images) \n",
    "\n",
    "# if url are found, print success message and instructions to click on link to view the images\n",
    "def test_ddg_images():\n",
    "    if ddg_images(term, max_results=max_images):\n",
    "        print('Success! Click on the link below to view the images')\n",
    "        # short print a few links to the images found\n",
    "        print(ddg_images(term, max_results=max_images)[:3])\n",
    "        \n",
    "        \n",
    "    else:\n",
    "        print('Fail! No images found')\n",
    "\n",
    "test_ddg_images()\n"
   ]
  },
  {
   "cell_type": "code",
   "execution_count": null,
   "metadata": {},
   "outputs": [],
   "source": []
  },
  {
   "cell_type": "markdown",
   "metadata": {},
   "source": []
  },
  {
   "cell_type": "code",
   "execution_count": 18,
   "metadata": {},
   "outputs": [
    {
     "ename": "NameError",
     "evalue": "name 'ddg_images' is not defined",
     "output_type": "error",
     "traceback": [
      "\u001b[0;31m---------------------------------------------------------------------------\u001b[0m",
      "\u001b[0;31mNameError\u001b[0m                                 Traceback (most recent call last)",
      "Cell \u001b[0;32mIn [18], line 6\u001b[0m\n\u001b[1;32m      3\u001b[0m max_images \u001b[39m=\u001b[39m \u001b[39m3\u001b[39m\n\u001b[1;32m      5\u001b[0m \u001b[39m# Call the ddg_Images function with the search term and maximum number of results\u001b[39;00m\n\u001b[0;32m----> 6\u001b[0m ddg_images(term, max_results\u001b[39m=\u001b[39mmax_images)\n",
      "\u001b[0;31mNameError\u001b[0m: name 'ddg_images' is not defined"
     ]
    }
   ],
   "source": [
    "# Test if the ddg_Images function is working with a simple search\n",
    "term = 'dog photos'\n",
    "max_images = 3\n",
    "\n",
    "# Call the ddg_Images function with the search term and maximum number of results\n",
    "ddg_images(term, max_results=max_images) \n",
    "\n",
    "# Note: \n",
    "# - The `max_results` parameter is used to specify the maximum number of images to return. \n",
    "# - It is a `fastai parameter`` of the `ddg_images` function\n",
    "# - The `max_results` parameter is optional.\n",
    "# - If you do not set the `max_results` parameter, the default value of 100 will be used.\n",
    "# - It is important to always set the `max_results` parameter to an $integer$ value. "
   ]
  },
  {
   "cell_type": "code",
   "execution_count": null,
   "metadata": {},
   "outputs": [],
   "source": [
    "# Test if the download_url function is working\n",
    "urls = ddg_images(term, max_results=max_images)\n",
    "url = urls[0]\n",
    "download_url(url, dest='test.jpg')\n",
    "\n",
    "# if url are found, print success message and open the image\n",
    "def test_download_url():\n",
    "    if ddg_images(term, max_results=max_images):\n",
    "        print('Success! Click on the link below to view the images')\n",
    "        # short print a few links to the images found\n",
    "        print(ddg_images(term, max_results=max_images)[:3])\n",
    "        \n",
    "        # open the image\n",
    "        display(Image.open('test.jpg'))\n",
    "        \n",
    "    else:\n",
    "        print('Fail! No images found')\n",
    "\n",
    "test_download_url()\n"
   ]
  },
  {
   "cell_type": "code",
   "execution_count": null,
   "metadata": {},
   "outputs": [],
   "source": [
    "# Test if the download_url and Path functions are working\n",
    "def test_download_and_path():\n",
    "    urls = ddg_images(term, max_results=max_image_count)\n",
    "    if urls:\n",
    "        download_url(urls[0], 'test_image.jpg')\n",
    "        if Path('test_image.jpg').exists():\n",
    "            print(f'Success! Image was downloaded and saved as \"test_image.jpg\".')\n",
    "        else:\n",
    "            print('Fail! Image was not saved to the specified location.')\n",
    "    else:\n",
    "        print('Fail! No image URLs were found.')\n",
    "\n",
    "#open the test_image.jpg file\n",
    "test_download_and_path()\n",
    "\n"
   ]
  },
  {
   "cell_type": "code",
   "execution_count": null,
   "metadata": {},
   "outputs": [],
   "source": [
    "\n",
    "\n",
    "# test if download_url and Path are working and give name test_image.jpg\n",
    "urls = ddg_images(term, max_results=max_image_count)\n",
    "urls[0]\n",
    "download_url(urls[0], 'test_image.jpg')\n",
    "Path('test_image.jpg').exists()\n",
    "\n",
    "\n",
    "\n",
    "# test if PIL is working\n",
    "from PIL import Image # PIL is the Python Imaging Library\n",
    "im = Image.open('test_image.jpg')\n",
    "im\n",
    "\n",
    "#PIL is a Python library for opening, manipulating, and saving many different image file formats. It means Python Imaging Library. It is a free and open-source additional library for the Python programming language that adds support for opening, manipulating, and saving many different image file formats. It is a dependency of the fastai library and noth"
   ]
  }
 ],
 "metadata": {
  "kernelspec": {
   "display_name": "Python 3",
   "language": "python",
   "name": "python3"
  },
  "language_info": {
   "codemirror_mode": {
    "name": "ipython",
    "version": 3
   },
   "file_extension": ".py",
   "mimetype": "text/x-python",
   "name": "python",
   "nbconvert_exporter": "python",
   "pygments_lexer": "ipython3",
   "version": "3.10.9"
  },
  "orig_nbformat": 4,
  "vscode": {
   "interpreter": {
    "hash": "b0fa6594d8f4cbf19f97940f81e996739fb7646882a419484c72d19e05852a7e"
   }
  }
 },
 "nbformat": 4,
 "nbformat_minor": 2
}
